{
 "cells": [
  {
   "cell_type": "markdown",
   "metadata": {},
   "source": [
    "# Graphical Models\n",
    "\n",
    "| Field | Value |\n",
    "|--|--|\n",
    "| **Names** | *Thibault Douzon & Georgios Lioutas* |\n",
    "| **Group** | *AML 3* |\n"
   ]
  },
  {
   "cell_type": "markdown",
   "metadata": {},
   "source": [
    "$\\newcommand{\\y}{\\mathbf{y}}\\newcommand{\\x}{\\mathbf{x}}$\n",
    "## Introduction\n",
    "\n",
    "In this lab, we will play with two types of graphical models: Bayesian Networks (which are directed) and Markov Random Fields (which are undirected). In the first part, we give you a straightforward implementation of the sum-product algorithm, and ask you to answer questions about the class-attendance example we saw in the lecture. In the second part we denoise an image.\n",
    "\n",
    "## Bayesian Networks\n",
    "\n",
    "Here is a simple implementation of the sum-product algorithm for factor graphs. You do not need to modify this code (unless I made a mistake somewhere, but hopefully we'll be lucky here), yet you are encouraged to read through the code."
   ]
  },
  {
   "cell_type": "code",
   "execution_count": 1,
   "metadata": {},
   "outputs": [],
   "source": [
    "%matplotlib inline\n",
    "import numpy as np\n",
    "import scipy.stats as st\n",
    "import matplotlib.pyplot as plt\n",
    "import operator\n",
    "import pylab"
   ]
  },
  {
   "cell_type": "markdown",
   "metadata": {},
   "source": [
    "First of all, the implementation of a base class for nodes. This is overloaded as variable nodes and factor nodes later on, and simply provides the common implementation of keeping track of what other nodes are connected to a node, and how messages can be passed between nodes."
   ]
  },
  {
   "cell_type": "code",
   "execution_count": 2,
   "metadata": {},
   "outputs": [],
   "source": [
    "class Node(object):\n",
    "    \"\"\"Base class for either factor nodes or variable nodes\"\"\"\n",
    "    \n",
    "    def __init__(self, name, numConnections):\n",
    "        self.name = name                           # Human-readable name of the node\n",
    "        self.nc = numConnections                   # Number of connections this node will get\n",
    "        self.incomingMsgs = [ None ] * self.nc     # Storage of received messages\n",
    "        self.connections = [None] * self.nc        # Pointers to the connected nodes\n",
    "        self.msgSent = [ False ] * self.nc         # Keeping track of the connections on which we've already sent msgs\n",
    "        self.msgsReceived = 0                      # Number of connections on which we've already received a message\n",
    "\n",
    "    def connect(self, node):\n",
    "        \"\"\"\n",
    "        Connect a node to another node.\n",
    "\n",
    "        WARNING: nodes are added sequentially to the list of connections. This means\n",
    "                 that the order in which connections are added to a node MUST match\n",
    "                 the order in which a factor's function interprets its parameter list.\n",
    "        \"\"\"\n",
    "        # print \"Adding\",node,\"to\",self        \n",
    "        foundSpot = False\n",
    "        for i in range(len(self.connections)):\n",
    "            if self.connections[i] == node:\n",
    "                print(\"WARNING: tried to connect\",node,\"to\",self,\"multiple times\")\n",
    "                break # Was already added\n",
    "            if not self.connections[i]:\n",
    "                self.connections[i] = node\n",
    "                foundSpot = True\n",
    "                break\n",
    "        if not foundSpot:\n",
    "            print(self, \": ERROR: failed adding connection to\", node)\n",
    "            print(\"     Existing connections to:\")\n",
    "            for c in self.connections:\n",
    "                print(\"      -\",c)\n",
    "        \n",
    "    def sendMsg(self, c, msg):\n",
    "        \"\"\" Send message \"msg\" on connection \"c\" \"\"\"\n",
    "        if self.msgSent[c]: # Already sent on that connection; ignore\n",
    "            return\n",
    "        connections[c].recvMsg(self,c)\n",
    "        \n",
    "    def recvMsg(self, sender, msg):\n",
    "        \"\"\"\n",
    "        Store the received message in the slot corresponding to its sender\n",
    "        \"\"\"\n",
    "        # print self.name, \"received message\",msg, \"from\", sender\n",
    "        found = False\n",
    "        for i,s in enumerate(self.connections):\n",
    "            if s == sender:\n",
    "                if not self.incomingMsgs[i]: # We have not yet received a message from this sender\n",
    "                    self.msgsReceived += 1   # Keep track of the number of senders that we've received from\n",
    "                self.incomingMsgs[i] = msg \n",
    "                found = True\n",
    "                break    \n",
    "        if not found:                        # For debugging\n",
    "            print(\"Error: Got a message from an unknown sender:\", sender)\n",
    "\n",
    "    def __str__(self):\n",
    "        return self.name + \" with \" + str(self.nc) + \" connections\""
   ]
  },
  {
   "cell_type": "markdown",
   "metadata": {},
   "source": [
    "The variable nodes propagate messages by multiplying all the incoming messages on the other links. When a message has been received on all links, the product of these messages is (normally) the marginal probability of that node (depending on what the factors encode, of course). When all messages have been received, this product is printed out."
   ]
  },
  {
   "cell_type": "code",
   "execution_count": 3,
   "metadata": {},
   "outputs": [],
   "source": [
    "class Variable(Node):\n",
    "    def __init__(self, name, numConnections, numStates=2):\n",
    "        super(Variable,self).__init__(name,numConnections)\n",
    "        self.ns = numStates\n",
    "\n",
    "    def marginal(self):\n",
    "        v = 1.\n",
    "        for m in self.incomingMsgs:\n",
    "            v *= m\n",
    "        return v     \n",
    "    \n",
    "    def recvMsg(self,sender,msg):\n",
    "        super(Variable,self).recvMsg(sender,msg)\n",
    "        if self.msgsReceived == self.nc: # We have received all messages\n",
    "            print(\"Resulting probability for\",self.name,\": \", self.marginal())\n",
    "            \n",
    "    def propagate(self):\n",
    "        \"\"\"Send messages on all (remaining) possible connections\"\"\"\n",
    "        for i in range(self.nc):\n",
    "            if self.msgSent[i]:\n",
    "                continue\n",
    "            msg = np.ones(self.ns) # \n",
    "            complete = True\n",
    "            for j in range(self.nc):\n",
    "                if j==i:\n",
    "                    continue\n",
    "                if self.incomingMsgs[j] is None:\n",
    "                    complete = False\n",
    "                    break\n",
    "                msg *= self.incomingMsgs[j]\n",
    "            if complete:\n",
    "                self.msgSent[i] = True\n",
    "                self.connections[i].recvMsg(self, msg)\n",
    "                self.connections[i].propagate()\n",
    "                                "
   ]
  },
  {
   "cell_type": "markdown",
   "metadata": {},
   "source": [
    "The factor nodes are slightly more complex, and compute the sum of the product of the incoming messages:"
   ]
  },
  {
   "cell_type": "code",
   "execution_count": 4,
   "metadata": {},
   "outputs": [],
   "source": [
    "class Factor(Node):\n",
    "    def __init__(self, name, numConnections, function):\n",
    "        Node.__init__(self,name,numConnections)\n",
    "        self.func = function\n",
    "\n",
    "    def msgFactorValueSum(self, variable, value, values = []):\n",
    "        \"\"\"\n",
    "        Return the sum of the factor computations for all possible variable value\n",
    "        combinations,except for variable \"variable\", which has value \"value\".\n",
    "\n",
    "        The point here is that for every value of the factor function, corresponding\n",
    "        to every combination of assignments for the connected nodes except the one that\n",
    "        we are sending the message to, we multiply that factor value with the corresponding\n",
    "        value of the received messages.\n",
    "\n",
    "        This helper function is called recursively, because we want our code to work for\n",
    "        any number of connections.        \n",
    "\n",
    "        \"\"\"\n",
    "\n",
    "        index = len(values)           # How many variables have we assigned a value to yet?\n",
    "        \n",
    "        if index == self.nc:          # Recurse until we've assigned a value to each variable\n",
    "            # print \"end of recursion:\", values, \"returning\",self.func(values)\n",
    "            return self.func(values)  # return the value of the factor function for that set of values\n",
    "\n",
    "        if index == variable:         # During recursion, cycle through all variables except \"variable\"\n",
    "                                      # (which we will send this message to)\n",
    "            values.append(value)      # Assign \"value\" (only) to variable so that recursion continues\n",
    "            res = self.msgFactorValueSum(variable,value,values)\n",
    "            values.pop()              # pop the value from the stack as we come back from the recursion \n",
    "            return res\n",
    "\n",
    "        res = 0;                                     # Return a sum, initialise with zero\n",
    "        values.append(0)                             # Append a variable state for the next variable\n",
    "        for v in range(self.connections[index].ns):  # Cycle through all possible states for that variable\n",
    "            values[-1] = v                           # Assign value v \n",
    "            res += self.incomingMsgs[index][v] * self.msgFactorValueSum(variable,value,values)\n",
    "        values.pop()                                 # And shorten the list again as we come back\n",
    "        return res\n",
    "            \n",
    "    def propagate(self):\n",
    "        \"\"\"Send messages on all (remaining) possible connections\"\"\"\n",
    "\n",
    "        if self.msgsReceived + 1 < self.nc:\n",
    "            # If we get here, we cannot send any messages\n",
    "            # print \"Messages received:\",self.msgsReceived,\", connections:\", self.nc, \"... Waiting.\"\n",
    "            return\n",
    "\n",
    "        if self.msgsReceived + 1 == self.nc:\n",
    "            # If we get here, we can send exactly one message\n",
    "            # print \"Messages received:\",self.msgsReceived,\", connections:\", self.nc, \"... Sending 1 message.\"\n",
    "            for i in range(self.nc):\n",
    "                if self.incomingMsgs[i] is None: # This is the connection that we need to send our message on\n",
    "                    if self.msgSent[i]:\n",
    "                        continue\n",
    "                    # print \"Creating message for\", self.connections[i]\n",
    "                    msg = np.zeros(self.connections[i].ns)\n",
    "                    for v in range(self.connections[i].ns):\n",
    "                        msg[v] = self.msgFactorValueSum(i,v,[])\n",
    "                        \n",
    "                    self.msgSent[i] = True    \n",
    "                    self.connections[i].recvMsg(self,msg)\n",
    "                    self.connections[i].propagate()\n",
    "                    return\n",
    "        # If we get here, we can send a message on all links\n",
    "        for i in range(self.nc):\n",
    "            if self.msgSent[i]:\n",
    "                continue\n",
    "            \n",
    "            msg = np.zeros(self.connections[i].ns)\n",
    "            for v in range(self.connections[i].ns):\n",
    "                msg[v] = self.msgFactorValueSum(i,v,[])\n",
    "            self.msgSent[i] = True\n",
    "            self.connections[i].recvMsg(self,msg)\n",
    "            self.connections[i].propagate()\n",
    "\n",
    "def connect(f,v):\n",
    "    f.connect(v)\n",
    "    v.connect(f)"
   ]
  },
  {
   "cell_type": "markdown",
   "metadata": {},
   "source": [
    "So, here is the implementation of our network. The network is the following:\n",
    "\n",
    "<img src=\"factorgraph.png\" width=\"40%\"/>\n",
    "\n",
    "where \n",
    "* $f_a$ is defined as $p(B) = [1/12, 11/12]$\n",
    "* $f_b$ is $p(C) = [1/3, 2/3]$\n",
    "* $f_c$ is $p(A|B,C)$, where $p(a|b,c) = 0, p(a|b,\\neg c)=1/4, p(a|\\neg b,c) = 1/2$ and $p(a|\\neg b,\\neg c)=1$\n",
    "* $f_d$ is $p(D|A)$, where $p(d|a)=0$ and $p(d|\\neg a) = 3/4$\n",
    "\n",
    "So now we implement our network. First, we define the functions implemented by the factor nodes. These functions take a list as a parameter, which encodes the state of the variables connected to that factor node. For example, the first function, ```pb```, implements the prior probability of $B$. That factor has only a single link, so the list of variable assignments has length 1, and the value of that one element is either 0 or 1, depending on whether $B=b$ or $B=\\neg b$. It simply returns the probability of that state, and similarly for the other functions.\n",
    "\n",
    "We then instantiate the nodes, and create the connections. Verify that this code implements the network depicted above."
   ]
  },
  {
   "cell_type": "code",
   "execution_count": 5,
   "metadata": {},
   "outputs": [],
   "source": [
    "def pb(l):\n",
    "    assert(len(l)==1)\n",
    "    return (1./12, 11./12)[l[0]]\n",
    "\n",
    "def pc(l):\n",
    "    assert(len(l)==1)\n",
    "    return (1./3, 2./3)[l[0]]\n",
    "\n",
    "def pa_bc(l):\n",
    "    assert(len(l)==3)\n",
    "\n",
    "    prob = [\n",
    "        [ # 3D array, indices a, b, c\n",
    "            [ 0., .25 ], # a, b, [ c, ~c ]\n",
    "            [ .5, 1. ],  # a, ~b, [c, ~c]\n",
    "        ],\n",
    "        [\n",
    "            [ 1, .75 ],\n",
    "            [ .5, 0. ]\n",
    "        ]\n",
    "    ]\n",
    "    return prob[l[0]][l[1]][l[2]]\n",
    "\n",
    "def pd_a(l):\n",
    "    assert(len(l)==2)\n",
    "    prob = [ [ 0, 1 ], [ .75, .25] ]\n",
    "    return prob[l[0]][l[1]]\n",
    "\n",
    "b = Variable(\"B\",2)\n",
    "f1 = Factor(\"f1\",1,pb)\n",
    "connect(f1,b)\n",
    "\n",
    "c = Variable(\"C\",2)\n",
    "f2 = Factor(\"f2\",1,pc)\n",
    "connect(f2,c)\n",
    "\n",
    "a = Variable(\"A\",2)\n",
    "f3 = Factor(\"f3\",3,pa_bc)\n",
    "connect(a,f3)\n",
    "connect(b,f3)\n",
    "connect(c,f3)\n",
    "\n",
    "f4 = Factor(\"f4\",2,pd_a)\n",
    "d = Variable(\"D\",1)\n",
    "connect(a,f4)\n",
    "connect(d,f4)\n",
    "\n"
   ]
  },
  {
   "cell_type": "markdown",
   "metadata": {},
   "source": [
    "We can now run the sum-product algorithm by calling ```propagate``` on all the nodes that have a single connection. This sends a message to on their single link and recursively propagates messages to the connected nodes when possible. When variable nodes have received all their messages, they print out the resulting probabilities."
   ]
  },
  {
   "cell_type": "code",
   "execution_count": 6,
   "metadata": {},
   "outputs": [
    {
     "name": "stdout",
     "output_type": "stream",
     "text": [
      "Resulting probability for D :  [0.16666667 0.83333333]\n",
      "Resulting probability for A :  [0.77777778 0.22222222]\n",
      "Resulting probability for B :  [0.08333333 0.91666667]\n",
      "Resulting probability for C :  [0.33333333 0.66666667]\n"
     ]
    }
   ],
   "source": [
    "f1.propagate()\n",
    "f2.propagate()\n",
    "d.propagate()"
   ]
  },
  {
   "cell_type": "markdown",
   "metadata": {},
   "source": [
    "The above probabilities are the marginal probabilities for each of the nodes, that is, the probability that these take a certain value, if nothing else is known.\n",
    "\n",
    "**Question 1 [10 marks]**\n",
    "\n",
    "In the cell below, copy the relevant code and modify the created network by adding a factor that encodes that $A$ is observed. Propagate messages through the network. The resulting probabilities are the *joint* probabilities of $A=a$ (\"you attended the class\"), and the other nodes, for example $p(A=a,D)$ encodes the probability that you attended the class and do, or don't, despair. One exception is the variable $A$ itself, where we have the marginal probability that $A$ should be observed as being $a$. Use these to compute the *conditional probabilities* $p(D=d|A=a)$ and $p(B=b|A=a)$.\n"
   ]
  },
  {
   "cell_type": "code",
   "execution_count": 7,
   "metadata": {},
   "outputs": [
    {
     "name": "stdout",
     "output_type": "stream",
     "text": [
      "Resulting probability for D :  [0.         0.77777778]\n",
      "Resulting probability for A :  [0.77777778 0.        ]\n",
      "Resulting probability for B :  [0.01388889 0.76388889]\n",
      "Resulting probability for C :  [0.15277778 0.625     ]\n",
      "p(d|a) = [0. 1.]\n",
      "p(b|a) = [0.01785714 0.98214286]\n"
     ]
    }
   ],
   "source": [
    "\"\"\"\n",
    "Resulting probability for D :  [0.         0.77777778]\n",
    "Resulting probability for A :  [0.77777778 0.        ]\n",
    "Resulting probability for B :  [0.01388889 0.76388889]\n",
    "Resulting probability for C :  [0.15277778 0.625     ]\n",
    "p(d|a) [0. 1.]\n",
    "p(b|a) [0.01785714 0.98214286]\n",
    "\"\"\"\n",
    "\n",
    "#[ANSQ1] (do not delete this line)\n",
    "\n",
    "# Your answer to Question 1 comes here\n",
    "def pa(l):\n",
    "    assert(len(l)==1)\n",
    "    return (1, 0)[l[0]]\n",
    "\n",
    "b = Variable(\"B\",2)\n",
    "f1 = Factor(\"f1\",1,pb)\n",
    "connect(f1,b)\n",
    "\n",
    "c = Variable(\"C\",2)\n",
    "f2 = Factor(\"f2\",1,pc)\n",
    "connect(f2,c)\n",
    "\n",
    "a = Variable(\"A\",3)\n",
    "f3 = Factor(\"f3\",3,pa_bc)\n",
    "connect(a,f3)\n",
    "connect(b,f3)\n",
    "connect(c,f3)\n",
    "\n",
    "f4 = Factor(\"f4\",2,pd_a)\n",
    "d = Variable(\"D\",1)\n",
    "connect(a,f4)\n",
    "connect(d,f4)\n",
    "\n",
    "f5 = Factor(\"f5\", 1, pa)\n",
    "connect(f5,a)\n",
    "\n",
    "f5.propagate()\n",
    "f1.propagate()\n",
    "f2.propagate()\n",
    "d.propagate()\n",
    "\n",
    "print(\"p(d|a) = {}\".format(d.marginal()/np.sum(a.marginal())))\n",
    "print(\"p(b|a) = {}\".format(b.marginal()/np.sum(a.marginal())))\n",
    "\n",
    "#[/ANSQ1] (do not delete this line)"
   ]
  },
  {
   "cell_type": "markdown",
   "metadata": {},
   "source": [
    "# Markov Random Fields\n",
    "\n"
   ]
  },
  {
   "cell_type": "code",
   "execution_count": 8,
   "metadata": {},
   "outputs": [
    {
     "name": "stdout",
     "output_type": "stream",
     "text": [
      "Image size:  (148, 201)\n",
      "Pixel values should be -1 or 1: -1.0 1.0\n"
     ]
    },
    {
     "data": {
      "image/png": "[encoded data removed]",
      "text/plain": [
       "<Figure size 720x576 with 1 Axes>"
      ]
     },
     "metadata": {
      "needs_background": "light"
     },
     "output_type": "display_data"
    }
   ],
   "source": [
    "pylab.rcParams['figure.figsize'] = (10.0, 8.0)\n",
    "\n",
    "# Read in the data:\n",
    "im = plt.imread(\"Figure8_30a.png\")[3:-3,3:-3,0].round() # Remove the border and keep a single binary channel\n",
    "print(\"Image size: \",im.shape)\n",
    "im = (-1 + 2*im)\n",
    "print(\"Pixel values should be -1 or 1:\", im.min(), im.max())\n",
    "\n",
    "plt.imshow(im,cmap=\"bone\")\n",
    "\n",
    "def corrupt(im,pFlip = 50):  # Flip one in [pFlip] pixels \n",
    "    for r in range(im.shape[0]):\n",
    "        for c in range(im.shape[1]):\n",
    "            if np.random.randint(pFlip)==0:\n",
    "                im[r,c] = -im[r,c]\n",
    "                "
   ]
  },
  {
   "cell_type": "markdown",
   "metadata": {},
   "source": [
    "## Markov Random Fields\n",
    "\n",
    "\n",
    "In this part of the lab, we implement a Markov Random Field to denoise a binary image. We do this by iteratively minimizing the energy function defined below. \n",
    "\n",
    "Note that the image as it has been loaded above is in the form of a matrix, which allows us to keep track of neighbouring pixels.\n",
    "\n",
    "So, first of all, we corrupt our image with 5% noise."
   ]
  },
  {
   "cell_type": "code",
   "execution_count": 9,
   "metadata": {},
   "outputs": [
    {
     "data": {
      "image/png": "[encoded data removed]",
      "text/plain": [
       "<Figure size 720x576 with 1 Axes>"
      ]
     },
     "metadata": {
      "needs_background": "light"
     },
     "output_type": "display_data"
    }
   ],
   "source": [
    "# This code is given\n",
    "\n",
    "\n",
    "Y = im.copy()\n",
    "corrupt(Y,10)\n",
    "plt.imshow(Y,cmap=\"bone\")\n",
    "X = Y.copy()\n"
   ]
  },
  {
   "cell_type": "markdown",
   "metadata": {},
   "source": [
    "## Defining the energy function\n",
    "\n",
    "The energy function of the original image $\\y$ and the reconstructed image $\\x$ is given by\n",
    "\n",
    "$$\n",
    "E(\\x,\\y) = h\\sum_i x_i -\\beta \\sum_{i,j\\in \\mathrm{ne}(i)} x_i x_j - \\eta\\sum_i x_iy_i\n",
    "$$\n",
    "\n",
    "where the sum over all pixels $i$ and neighobours $j$ of $i$. Notice that in this notation, the images are considered as vectors, while in the implementation we see them as matrices to make looking at neighbouring pixels easier.\n"
   ]
  },
  {
   "cell_type": "code",
   "execution_count": 10,
   "metadata": {},
   "outputs": [
    {
     "name": "stdout",
     "output_type": "stream",
     "text": [
      "-117212.0\n",
      "-82618.0\n"
     ]
    },
    {
     "data": {
      "image/png": "[encoded data removed]",
      "text/plain": [
       "<Figure size 720x576 with 1 Axes>"
      ]
     },
     "metadata": {
      "needs_background": "light"
     },
     "output_type": "display_data"
    }
   ],
   "source": [
    "def energy (h,beta,eta,X,Y):\n",
    "    O = X[1:-1,1:-1]\n",
    "    N = X[0:-2,1:-1]\n",
    "    S = X[2:,1:-1]\n",
    "    W = X[1:-1,0:-2]\n",
    "    E = X[1:-1,2:]\n",
    "    \n",
    "    return h*sum(sum(X)) - \\\n",
    "        beta*(sum(sum(O*N))+sum(sum(O*S))+sum(sum(O*E))+sum(sum(O*W))) - \\\n",
    "        eta*sum(sum(X*Y))\n",
    "\n",
    "plt.imshow(X,cmap=\"bone\")\n",
    "print(energy(1,1,1,im,im))\n",
    "print(energy(1,1,1,X,X))"
   ]
  },
  {
   "cell_type": "code",
   "execution_count": 11,
   "metadata": {},
   "outputs": [],
   "source": [
    "# This code is given\n",
    "\n",
    "def deltaE(h,beta,eta,X,Y,r,c):\n",
    "    X2 = np.copy(X)\n",
    "    X2[r,c] = -X2[r,c]\n",
    "    E = energy(h,beta,eta,X2,Y)\n",
    "    return E - energy(h,beta,eta,X,Y)\n",
    "    "
   ]
  },
  {
   "cell_type": "markdown",
   "metadata": {},
   "source": [
    "\n",
    "**Question 2 [5 marks]** Can you figure out a more efficient way of implementing `deltaE`? What is the computational complexity of your solution?\n",
    "\n",
    "\n",
    "**Answer** $O(1)$"
   ]
  },
  {
   "cell_type": "code",
   "execution_count": 12,
   "metadata": {},
   "outputs": [
    {
     "data": {
      "text/plain": [
       "'\\nprint(np.shape(X))\\nX_test = np.copy(X)\\nprint(X_test[0:2,:])\\nfor i in reversed(range(1, len(X)-1)):\\n        for j in range(1, len(X[0])-1):\\n            E_i = energy(1,1,1,X_test, X)\\n\\n            delta = deltaE_const(1, 1, 1, X_test, X, i, j)\\n            delta_long = deltaE(1, 1, 1, X_test, X, i, j)\\n            \\n            X_test[i,j] = -X_test[i,j]\\n            E_f = energy(1,1,1,X_test, X)\\n            X_test[i,j] = -X_test[i,j]\\n            \\n            #print(E_f-E_i, delta, delta_long, X[i,j], X_test[i,j])\\n            if E_f-E_i != delta:\\n                N = X_test[i-1,j]\\n                S = X_test[i+1,j]\\n                W = X_test[i,j-1]\\n                E = X_test[i,j+1]\\n                print(X_test[i,j], X[i,j], N,S,W,E, delta, E_f-E_i,i,j)\\n            if delta < 0:\\n                X_test[i,j] = -X_test[i,j]\\n                continue\\n'"
      ]
     },
     "execution_count": 12,
     "metadata": {},
     "output_type": "execute_result"
    }
   ],
   "source": [
    "# [ANSQ2] (do not delete this line)\n",
    "def deltaE_const(h, beta, eta, X, Y, r, c):\n",
    "    x_rc = X[r,c]\n",
    "    x_new = - x_rc\n",
    "    N = X[r-1,c]\n",
    "    S = X[r+1,c]\n",
    "    W = X[r,c-1]\n",
    "    E = X[r,c+1]\n",
    "    border = 0\n",
    "    if r == 1 or r == len(X)-2:\n",
    "        border += 1/2\n",
    "    if c == 1 or c == len(X[0])-2:\n",
    "        border += 1/2\n",
    "    # Very weird bug on the order only, can't yet figure out why, but this fixes roughly 80%\n",
    "    # Instead of computing over all pixels, we only compute the difference, what has changed\n",
    "    return 2*x_new * (h - 2 * beta * (N+S+W+E-border) - eta * Y[r,c])\n",
    "    # Two times NSWE because 1 when center pixel changes and 1 when all neighbours change\n",
    "    \n",
    "\"\"\"\n",
    "print(np.shape(X))\n",
    "X_test = np.copy(X)\n",
    "print(X_test[0:2,:])\n",
    "for i in reversed(range(1, len(X)-1)):\n",
    "        for j in range(1, len(X[0])-1):\n",
    "            E_i = energy(1,1,1,X_test, X)\n",
    "\n",
    "            delta = deltaE_const(1, 1, 1, X_test, X, i, j)\n",
    "            delta_long = deltaE(1, 1, 1, X_test, X, i, j)\n",
    "            \n",
    "            X_test[i,j] = -X_test[i,j]\n",
    "            E_f = energy(1,1,1,X_test, X)\n",
    "            X_test[i,j] = -X_test[i,j]\n",
    "            \n",
    "            #print(E_f-E_i, delta, delta_long, X[i,j], X_test[i,j])\n",
    "            if E_f-E_i != delta:\n",
    "                N = X_test[i-1,j]\n",
    "                S = X_test[i+1,j]\n",
    "                W = X_test[i,j-1]\n",
    "                E = X_test[i,j+1]\n",
    "                print(X_test[i,j], X[i,j], N,S,W,E, delta, E_f-E_i,i,j)\n",
    "            if delta < 0:\n",
    "                X_test[i,j] = -X_test[i,j]\n",
    "                continue\n",
    "\"\"\"\n",
    "# [/ANSQ2] (do not delete this line)"
   ]
  },
  {
   "cell_type": "markdown",
   "metadata": {},
   "source": [
    "**Question 3 [5 marks]** Implement repeatedly iterating through all the pixels of the image, and flipping the pixels of the reconstruction $\\y$ if that change results in a negative deltaE. "
   ]
  },
  {
   "cell_type": "code",
   "execution_count": 13,
   "metadata": {},
   "outputs": [
    {
     "name": "stdout",
     "output_type": "stream",
     "text": [
      "-82618.0\n",
      "-111176.0\n",
      "-82618.0\n",
      "1\n",
      "-111142.0\n",
      "2\n",
      "-111878.0\n",
      "3\n",
      "-111914.0\n",
      "4\n",
      "-111916.0\n",
      "5\n",
      "-111918.0\n",
      "6\n",
      "-111920.0\n",
      "7\n",
      "-111922.0\n",
      "8\n",
      "-111924.0\n",
      "9\n",
      "-111926.0\n",
      "10\n"
     ]
    },
    {
     "data": {
      "image/png": "[encoded data removed]",
      "text/plain": [
       "<Figure size 720x576 with 1 Axes>"
      ]
     },
     "metadata": {
      "needs_background": "light"
     },
     "output_type": "display_data"
    },
    {
     "data": {
      "image/png": "[encoded data removed]",
      "text/plain": [
       "<Figure size 720x576 with 1 Axes>"
      ]
     },
     "metadata": {
      "needs_background": "light"
     },
     "output_type": "display_data"
    },
    {
     "name": "stdout",
     "output_type": "stream",
     "text": [
      "-111928.0\n"
     ]
    }
   ],
   "source": [
    "# [ANSQ3] (Do not delete this line)\n",
    "X_new = np.copy(X)\n",
    "changes = True\n",
    "k = 0\n",
    "print(energy(1,1,1,X,X))\n",
    "print(energy(1,1,1,im,X))\n",
    "while changes and k < 10:\n",
    "    print(energy(1,1,1,X_new,X))\n",
    "    changes= False\n",
    "    k+=1\n",
    "    print(k)\n",
    "    for i in range(1, len(X)-1):\n",
    "        for j in range(1, len(X[0])-1):\n",
    "            if deltaE_const(1, 1, 1, X_new, X, i, j) < 0:\n",
    "                changes = True\n",
    "                X_new[i,j] = -X_new[i,j]\n",
    "                continue\n",
    "                \n",
    "plt.imshow(X,cmap=\"bone\")\n",
    "plt.show()\n",
    "plt.imshow(X_new,cmap=\"bone\")\n",
    "plt.show()\n",
    "\n",
    "\n",
    "print(energy(1,1,1,X_new,X))\n",
    "# [/ANSQ3] (do not delete this line)"
   ]
  },
  {
   "cell_type": "code",
   "execution_count": null,
   "metadata": {},
   "outputs": [],
   "source": []
  }
 ],
 "metadata": {
  "kernelspec": {
   "display_name": "Python 3",
   "language": "python",
   "name": "python3"
  },
  "language_info": {
   "codemirror_mode": {
    "name": "ipython",
    "version": 3
   },
   "file_extension": ".py",
   "mimetype": "text/x-python",
   "name": "python",
   "nbconvert_exporter": "python",
   "pygments_lexer": "ipython3",
   "version": "3.5.6"
  }
 },
 "nbformat": 4,
 "nbformat_minor": 1
}
